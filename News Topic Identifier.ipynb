{
  "cells": [
    {
      "cell_type": "code",
      "execution_count": null,
      "metadata": {
        "colab": {
          "base_uri": "https://localhost:8080/",
          "height": 206
        },
        "id": "v_HgnI4rCfJm",
        "outputId": "84383f00-2cc6-4010-edb9-ad48e3db7002"
      },
      "outputs": [
        {
          "output_type": "execute_result",
          "data": {
            "text/plain": [
              "                                                link  \\\n",
              "0  https://www.huffpost.com/entry/covid-boosters-...   \n",
              "1  https://www.huffpost.com/entry/american-airlin...   \n",
              "2  https://www.huffpost.com/entry/funniest-tweets...   \n",
              "3  https://www.huffpost.com/entry/funniest-parent...   \n",
              "4  https://www.huffpost.com/entry/amy-cooper-lose...   \n",
              "\n",
              "                                            headline   category  \\\n",
              "0  Over 4 Million Americans Roll Up Sleeves For O...  U.S. NEWS   \n",
              "1  American Airlines Flyer Charged, Banned For Li...  U.S. NEWS   \n",
              "2  23 Of The Funniest Tweets About Cats And Dogs ...     COMEDY   \n",
              "3  The Funniest Tweets From Parents This Week (Se...  PARENTING   \n",
              "4  Woman Who Called Cops On Black Bird-Watcher Lo...  U.S. NEWS   \n",
              "\n",
              "                                   short_description               authors  \\\n",
              "0  Health experts said it is too early to predict...  Carla K. Johnson, AP   \n",
              "1  He was subdued by passengers and crew when he ...        Mary Papenfuss   \n",
              "2  \"Until you have a dog you don't understand wha...         Elyse Wanshel   \n",
              "3  \"Accidentally put grown-up toothpaste on my to...      Caroline Bologna   \n",
              "4  Amy Cooper accused investment firm Franklin Te...        Nina Golgowski   \n",
              "\n",
              "        date  \n",
              "0 2022-09-23  \n",
              "1 2022-09-23  \n",
              "2 2022-09-23  \n",
              "3 2022-09-23  \n",
              "4 2022-09-22  "
            ],
            "text/html": [
              "\n",
              "  <div id=\"df-53eedca1-1552-42d9-8de1-6e00abf9f228\">\n",
              "    <div class=\"colab-df-container\">\n",
              "      <div>\n",
              "<style scoped>\n",
              "    .dataframe tbody tr th:only-of-type {\n",
              "        vertical-align: middle;\n",
              "    }\n",
              "\n",
              "    .dataframe tbody tr th {\n",
              "        vertical-align: top;\n",
              "    }\n",
              "\n",
              "    .dataframe thead th {\n",
              "        text-align: right;\n",
              "    }\n",
              "</style>\n",
              "<table border=\"1\" class=\"dataframe\">\n",
              "  <thead>\n",
              "    <tr style=\"text-align: right;\">\n",
              "      <th></th>\n",
              "      <th>link</th>\n",
              "      <th>headline</th>\n",
              "      <th>category</th>\n",
              "      <th>short_description</th>\n",
              "      <th>authors</th>\n",
              "      <th>date</th>\n",
              "    </tr>\n",
              "  </thead>\n",
              "  <tbody>\n",
              "    <tr>\n",
              "      <th>0</th>\n",
              "      <td>https://www.huffpost.com/entry/covid-boosters-...</td>\n",
              "      <td>Over 4 Million Americans Roll Up Sleeves For O...</td>\n",
              "      <td>U.S. NEWS</td>\n",
              "      <td>Health experts said it is too early to predict...</td>\n",
              "      <td>Carla K. Johnson, AP</td>\n",
              "      <td>2022-09-23</td>\n",
              "    </tr>\n",
              "    <tr>\n",
              "      <th>1</th>\n",
              "      <td>https://www.huffpost.com/entry/american-airlin...</td>\n",
              "      <td>American Airlines Flyer Charged, Banned For Li...</td>\n",
              "      <td>U.S. NEWS</td>\n",
              "      <td>He was subdued by passengers and crew when he ...</td>\n",
              "      <td>Mary Papenfuss</td>\n",
              "      <td>2022-09-23</td>\n",
              "    </tr>\n",
              "    <tr>\n",
              "      <th>2</th>\n",
              "      <td>https://www.huffpost.com/entry/funniest-tweets...</td>\n",
              "      <td>23 Of The Funniest Tweets About Cats And Dogs ...</td>\n",
              "      <td>COMEDY</td>\n",
              "      <td>\"Until you have a dog you don't understand wha...</td>\n",
              "      <td>Elyse Wanshel</td>\n",
              "      <td>2022-09-23</td>\n",
              "    </tr>\n",
              "    <tr>\n",
              "      <th>3</th>\n",
              "      <td>https://www.huffpost.com/entry/funniest-parent...</td>\n",
              "      <td>The Funniest Tweets From Parents This Week (Se...</td>\n",
              "      <td>PARENTING</td>\n",
              "      <td>\"Accidentally put grown-up toothpaste on my to...</td>\n",
              "      <td>Caroline Bologna</td>\n",
              "      <td>2022-09-23</td>\n",
              "    </tr>\n",
              "    <tr>\n",
              "      <th>4</th>\n",
              "      <td>https://www.huffpost.com/entry/amy-cooper-lose...</td>\n",
              "      <td>Woman Who Called Cops On Black Bird-Watcher Lo...</td>\n",
              "      <td>U.S. NEWS</td>\n",
              "      <td>Amy Cooper accused investment firm Franklin Te...</td>\n",
              "      <td>Nina Golgowski</td>\n",
              "      <td>2022-09-22</td>\n",
              "    </tr>\n",
              "  </tbody>\n",
              "</table>\n",
              "</div>\n",
              "      <button class=\"colab-df-convert\" onclick=\"convertToInteractive('df-53eedca1-1552-42d9-8de1-6e00abf9f228')\"\n",
              "              title=\"Convert this dataframe to an interactive table.\"\n",
              "              style=\"display:none;\">\n",
              "        \n",
              "  <svg xmlns=\"http://www.w3.org/2000/svg\" height=\"24px\"viewBox=\"0 0 24 24\"\n",
              "       width=\"24px\">\n",
              "    <path d=\"M0 0h24v24H0V0z\" fill=\"none\"/>\n",
              "    <path d=\"M18.56 5.44l.94 2.06.94-2.06 2.06-.94-2.06-.94-.94-2.06-.94 2.06-2.06.94zm-11 1L8.5 8.5l.94-2.06 2.06-.94-2.06-.94L8.5 2.5l-.94 2.06-2.06.94zm10 10l.94 2.06.94-2.06 2.06-.94-2.06-.94-.94-2.06-.94 2.06-2.06.94z\"/><path d=\"M17.41 7.96l-1.37-1.37c-.4-.4-.92-.59-1.43-.59-.52 0-1.04.2-1.43.59L10.3 9.45l-7.72 7.72c-.78.78-.78 2.05 0 2.83L4 21.41c.39.39.9.59 1.41.59.51 0 1.02-.2 1.41-.59l7.78-7.78 2.81-2.81c.8-.78.8-2.07 0-2.86zM5.41 20L4 18.59l7.72-7.72 1.47 1.35L5.41 20z\"/>\n",
              "  </svg>\n",
              "      </button>\n",
              "      \n",
              "  <style>\n",
              "    .colab-df-container {\n",
              "      display:flex;\n",
              "      flex-wrap:wrap;\n",
              "      gap: 12px;\n",
              "    }\n",
              "\n",
              "    .colab-df-convert {\n",
              "      background-color: #E8F0FE;\n",
              "      border: none;\n",
              "      border-radius: 50%;\n",
              "      cursor: pointer;\n",
              "      display: none;\n",
              "      fill: #1967D2;\n",
              "      height: 32px;\n",
              "      padding: 0 0 0 0;\n",
              "      width: 32px;\n",
              "    }\n",
              "\n",
              "    .colab-df-convert:hover {\n",
              "      background-color: #E2EBFA;\n",
              "      box-shadow: 0px 1px 2px rgba(60, 64, 67, 0.3), 0px 1px 3px 1px rgba(60, 64, 67, 0.15);\n",
              "      fill: #174EA6;\n",
              "    }\n",
              "\n",
              "    [theme=dark] .colab-df-convert {\n",
              "      background-color: #3B4455;\n",
              "      fill: #D2E3FC;\n",
              "    }\n",
              "\n",
              "    [theme=dark] .colab-df-convert:hover {\n",
              "      background-color: #434B5C;\n",
              "      box-shadow: 0px 1px 3px 1px rgba(0, 0, 0, 0.15);\n",
              "      filter: drop-shadow(0px 1px 2px rgba(0, 0, 0, 0.3));\n",
              "      fill: #FFFFFF;\n",
              "    }\n",
              "  </style>\n",
              "\n",
              "      <script>\n",
              "        const buttonEl =\n",
              "          document.querySelector('#df-53eedca1-1552-42d9-8de1-6e00abf9f228 button.colab-df-convert');\n",
              "        buttonEl.style.display =\n",
              "          google.colab.kernel.accessAllowed ? 'block' : 'none';\n",
              "\n",
              "        async function convertToInteractive(key) {\n",
              "          const element = document.querySelector('#df-53eedca1-1552-42d9-8de1-6e00abf9f228');\n",
              "          const dataTable =\n",
              "            await google.colab.kernel.invokeFunction('convertToInteractive',\n",
              "                                                     [key], {});\n",
              "          if (!dataTable) return;\n",
              "\n",
              "          const docLinkHtml = 'Like what you see? Visit the ' +\n",
              "            '<a target=\"_blank\" href=https://colab.research.google.com/notebooks/data_table.ipynb>data table notebook</a>'\n",
              "            + ' to learn more about interactive tables.';\n",
              "          element.innerHTML = '';\n",
              "          dataTable['output_type'] = 'display_data';\n",
              "          await google.colab.output.renderOutput(dataTable, element);\n",
              "          const docLink = document.createElement('div');\n",
              "          docLink.innerHTML = docLinkHtml;\n",
              "          element.appendChild(docLink);\n",
              "        }\n",
              "      </script>\n",
              "    </div>\n",
              "  </div>\n",
              "  "
            ]
          },
          "metadata": {},
          "execution_count": 91
        }
      ],
      "source": [
        "import pandas as pd\n",
        "\n",
        "df = pd.read_json('/content/drive/MyDrive/Colab Notebooks/datasets/News_Category_Dataset_v3.json', lines=True)\n",
        "df.head()\n",
        "\n"
      ]
    },
    {
      "cell_type": "code",
      "execution_count": null,
      "metadata": {
        "id": "ue8KTAJJnjnz"
      },
      "outputs": [],
      "source": [
        "# Define the topics to exclude\n",
        "excluded_topics = ['POLITICS', 'WELLNESS','ENTERTAINMENT']\n",
        "\n",
        "# Drop entries based on the condition excluding the specified topics\n",
        "filtered_df = df[df['category'].isin(excluded_topics)]\n"
      ]
    },
    {
      "cell_type": "code",
      "execution_count": null,
      "metadata": {
        "id": "CwIwhZ2DxaLl"
      },
      "outputs": [],
      "source": [
        "filtered_df = df"
      ]
    },
    {
      "cell_type": "code",
      "source": [],
      "metadata": {
        "id": "bqkNXsZAjfUa"
      },
      "execution_count": null,
      "outputs": []
    },
    {
      "cell_type": "code",
      "execution_count": null,
      "metadata": {
        "colab": {
          "base_uri": "https://localhost:8080/"
        },
        "id": "Sx1EviH7n2Fa",
        "outputId": "42874816-7bd0-4af2-a82f-e5574c6b0836"
      },
      "outputs": [
        {
          "output_type": "execute_result",
          "data": {
            "text/plain": [
              "42"
            ]
          },
          "metadata": {},
          "execution_count": 94
        }
      ],
      "source": [
        "len(filtered_df['category'].unique())"
      ]
    },
    {
      "cell_type": "code",
      "execution_count": null,
      "metadata": {
        "id": "JdgurNJIEf3L"
      },
      "outputs": [],
      "source": [
        "# X = df['headline']+ \" \"+ df['short_description']\n",
        "X = filtered_df['short_description']"
      ]
    },
    {
      "cell_type": "code",
      "source": [],
      "metadata": {
        "id": "DFUMKklIc64U"
      },
      "execution_count": null,
      "outputs": []
    },
    {
      "cell_type": "code",
      "execution_count": null,
      "metadata": {
        "id": "Vh6hQG43EPJ9"
      },
      "outputs": [],
      "source": [
        "from sklearn.feature_extraction.text import TfidfVectorizer"
      ]
    },
    {
      "cell_type": "code",
      "execution_count": null,
      "metadata": {
        "id": "jCvXNm7HEYSj"
      },
      "outputs": [],
      "source": [
        "tfidf = TfidfVectorizer(max_df=0.95, min_df=2, stop_words='english')"
      ]
    },
    {
      "cell_type": "code",
      "execution_count": null,
      "metadata": {
        "id": "mv6_Vts_EbUq"
      },
      "outputs": [],
      "source": [
        "dtm = tfidf.fit_transform(X)"
      ]
    },
    {
      "cell_type": "code",
      "execution_count": null,
      "metadata": {
        "colab": {
          "base_uri": "https://localhost:8080/"
        },
        "id": "crMUBP9yEdSF",
        "outputId": "1c5d2125-239a-4f80-ccf9-9885dfd1d19c"
      },
      "outputs": [
        {
          "output_type": "execute_result",
          "data": {
            "text/plain": [
              "<209527x43523 sparse matrix of type '<class 'numpy.float64'>'\n",
              "\twith 1981547 stored elements in Compressed Sparse Row format>"
            ]
          },
          "metadata": {},
          "execution_count": 99
        }
      ],
      "source": [
        "dtm"
      ]
    },
    {
      "cell_type": "code",
      "execution_count": null,
      "metadata": {
        "id": "acot8nHDEt7F"
      },
      "outputs": [],
      "source": [
        "from sklearn.decomposition import NMF"
      ]
    },
    {
      "cell_type": "code",
      "execution_count": null,
      "metadata": {
        "id": "htfPFY6LEzro"
      },
      "outputs": [],
      "source": [
        "nmf_model = NMF(n_components=3,random_state=42)"
      ]
    },
    {
      "cell_type": "code",
      "execution_count": null,
      "metadata": {
        "id": "j_3WhwvcE5X-"
      },
      "outputs": [],
      "source": []
    },
    {
      "cell_type": "code",
      "source": [
        "\n"
      ],
      "metadata": {
        "id": "5OpkxdcrcLFL"
      },
      "execution_count": null,
      "outputs": []
    },
    {
      "cell_type": "code",
      "source": [
        "# nmf_model.fit(dtm)\n",
        "# from sklearn.decomposition import NMF\n",
        "# from sklearn.metrics import precision_score, recall_score, average_precision_score\n",
        "# from sklearn.model_selection import train_test_split\n",
        "\n",
        "\n",
        "# X_eval = tfidf.transform(X_eval)\n",
        "# X_eval_pred = nmf_model.transform(X_eval)\n",
        "# precision = precision_score(X_eval, X_eval_pred, average='micro')\n",
        "# recall = recall_score(X_eval, X_eval_pred, average='micro')\n",
        "# average_precision = average_precision_score(X_eval, X_eval_pred)\n",
        "\n",
        "# print(\"Precision:\", precision)\n",
        "# print(\"Recall:\", recall)\n",
        "# print(\"Average Precision:\", average_precision)"
      ],
      "metadata": {
        "id": "GYmoXQZFeszK"
      },
      "execution_count": null,
      "outputs": []
    },
    {
      "cell_type": "code",
      "source": [],
      "metadata": {
        "id": "UVWru6jhcBcb"
      },
      "execution_count": null,
      "outputs": []
    },
    {
      "cell_type": "code",
      "source": [],
      "metadata": {
        "id": "r8v7866Rg0Hl"
      },
      "execution_count": null,
      "outputs": []
    },
    {
      "cell_type": "code",
      "execution_count": null,
      "metadata": {
        "colab": {
          "base_uri": "https://localhost:8080/"
        },
        "id": "lC9cyloZGH5r",
        "outputId": "116b581f-6753-4485-f3b7-8d31def94e7c"
      },
      "outputs": [
        {
          "data": {
            "text/plain": [
              "43523"
            ]
          },
          "execution_count": 13,
          "metadata": {},
          "output_type": "execute_result"
        }
      ],
      "source": [
        "len(tfidf.get_feature_names_out())"
      ]
    },
    {
      "cell_type": "code",
      "execution_count": null,
      "metadata": {
        "id": "PRu_sqObFFkd"
      },
      "outputs": [],
      "source": [
        "import random"
      ]
    },
    {
      "cell_type": "code",
      "execution_count": null,
      "metadata": {
        "colab": {
          "base_uri": "https://localhost:8080/"
        },
        "id": "gu_RIF-iGYhc",
        "outputId": "400aa655-fbde-4f90-cd9e-039575d53409"
      },
      "outputs": [
        {
          "data": {
            "text/plain": [
              "3"
            ]
          },
          "execution_count": 15,
          "metadata": {},
          "output_type": "execute_result"
        }
      ],
      "source": [
        "len(nmf_model.components_)"
      ]
    },
    {
      "cell_type": "code",
      "execution_count": null,
      "metadata": {
        "colab": {
          "base_uri": "https://localhost:8080/"
        },
        "id": "G8ddUfVeGq8R",
        "outputId": "5606a94a-116e-4a27-d47e-6b12bae86f4b"
      },
      "outputs": [
        {
          "data": {
            "text/plain": [
              "array([[3.83113814e-03, 1.12337035e-01, 1.05018099e-03, ...,\n",
              "        4.95485226e-05, 3.59043353e-04, 2.01543934e-04],\n",
              "       [0.00000000e+00, 0.00000000e+00, 0.00000000e+00, ...,\n",
              "        0.00000000e+00, 0.00000000e+00, 0.00000000e+00],\n",
              "       [8.52761415e-06, 2.45456261e-02, 0.00000000e+00, ...,\n",
              "        4.01027580e-05, 0.00000000e+00, 0.00000000e+00]])"
            ]
          },
          "execution_count": 16,
          "metadata": {},
          "output_type": "execute_result"
        }
      ],
      "source": [
        "nmf_model.components_"
      ]
    },
    {
      "cell_type": "code",
      "execution_count": null,
      "metadata": {
        "colab": {
          "base_uri": "https://localhost:8080/"
        },
        "id": "I500O9i_GtrD",
        "outputId": "e9a56a7a-1322-4f0d-a439-98ddee8c8676"
      },
      "outputs": [
        {
          "data": {
            "text/plain": [
              "43523"
            ]
          },
          "execution_count": 17,
          "metadata": {},
          "output_type": "execute_result"
        }
      ],
      "source": [
        "len(nmf_model.components_[0])"
      ]
    },
    {
      "cell_type": "code",
      "execution_count": null,
      "metadata": {
        "id": "e4MinBo6Gxeu"
      },
      "outputs": [],
      "source": [
        "single_topic = nmf_model.components_[0]"
      ]
    },
    {
      "cell_type": "code",
      "execution_count": null,
      "metadata": {
        "id": "eZrGnioHG1an"
      },
      "outputs": [],
      "source": [
        "top_word_indices = single_topic.argsort()[-10:]"
      ]
    },
    {
      "cell_type": "code",
      "execution_count": null,
      "metadata": {
        "colab": {
          "base_uri": "https://localhost:8080/"
        },
        "id": "DWOuGOBPHA-3",
        "outputId": "4cd08a98-f32a-4d95-fb05-030af6fef0ee"
      },
      "outputs": [
        {
          "name": "stdout",
          "output_type": "stream",
          "text": [
            "year\n",
            "life\n",
            "day\n",
            "new\n",
            "know\n",
            "don\n",
            "people\n",
            "like\n",
            "time\n",
            "just\n"
          ]
        }
      ],
      "source": [
        "for index in top_word_indices:\n",
        "    print(tfidf.get_feature_names_out()[index])"
      ]
    },
    {
      "cell_type": "code",
      "execution_count": null,
      "metadata": {
        "colab": {
          "base_uri": "https://localhost:8080/"
        },
        "id": "OCyfGjuiHEse",
        "outputId": "b7d4f9fc-eece-46ee-caaf-25b3b0311d62"
      },
      "outputs": [
        {
          "name": "stdout",
          "output_type": "stream",
          "text": [
            "THE TOP 15 WORDS FOR TOPIC #0\n",
            "['good', 'love', 'think', 've', 'make', 'year', 'life', 'day', 'new', 'know', 'don', 'people', 'like', 'time', 'just']\n",
            "\n",
            "\n",
            "THE TOP 15 WORDS FOR TOPIC #1\n",
            "['home', 'weddings', 'stylelist', 'touch', 'huffpoststyle', 'instagram', 'style', 'sure', 'tumblr', 'want', 'pinterest', 'huffpost', 'facebook', 'twitter', 'check']\n",
            "\n",
            "\n",
            "THE TOP 15 WORDS FOR TOPIC #2\n",
            "['state', 'hillary', 'presidential', 'says', 'administration', 'obama', 'white', 'clinton', 'republican', 'house', 'campaign', 'said', 'donald', 'president', 'trump']\n",
            "\n",
            "\n"
          ]
        }
      ],
      "source": [
        "for index,topic in enumerate(nmf_model.components_):\n",
        "    print(f'THE TOP 15 WORDS FOR TOPIC #{index}')\n",
        "    print([tfidf.get_feature_names_out()[i] for i in topic.argsort()[-15:]])\n",
        "    print('\\n')"
      ]
    },
    {
      "cell_type": "code",
      "execution_count": null,
      "metadata": {
        "colab": {
          "base_uri": "https://localhost:8080/"
        },
        "id": "x6JzV2EiHPnR",
        "outputId": "c65a2184-08d7-43e8-805b-9b864d694bfc"
      },
      "outputs": [
        {
          "data": {
            "text/plain": [
              "<209527x43523 sparse matrix of type '<class 'numpy.float64'>'\n",
              "\twith 1981547 stored elements in Compressed Sparse Row format>"
            ]
          },
          "execution_count": 22,
          "metadata": {},
          "output_type": "execute_result"
        }
      ],
      "source": [
        "dtm"
      ]
    },
    {
      "cell_type": "code",
      "execution_count": null,
      "metadata": {
        "colab": {
          "base_uri": "https://localhost:8080/"
        },
        "id": "HudSysvsHuNr",
        "outputId": "8e0b1fb6-74d0-44f1-d1ee-f27563bb8897"
      },
      "outputs": [
        {
          "data": {
            "text/plain": [
              "(209527, 43523)"
            ]
          },
          "execution_count": 23,
          "metadata": {},
          "output_type": "execute_result"
        }
      ],
      "source": [
        "dtm.shape"
      ]
    },
    {
      "cell_type": "code",
      "execution_count": null,
      "metadata": {
        "id": "1IWWnawJHz_M"
      },
      "outputs": [],
      "source": [
        "topic_results = nmf_model.transform(dtm)"
      ]
    },
    {
      "cell_type": "code",
      "execution_count": null,
      "metadata": {
        "colab": {
          "base_uri": "https://localhost:8080/"
        },
        "id": "WXOG9hlTH4E4",
        "outputId": "80e6f525-b53b-49e5-f3b2-062e67c3aa92"
      },
      "outputs": [
        {
          "data": {
            "text/plain": [
              "(209527, 3)"
            ]
          },
          "execution_count": 25,
          "metadata": {},
          "output_type": "execute_result"
        }
      ],
      "source": [
        "topic_results.shape"
      ]
    },
    {
      "cell_type": "code",
      "execution_count": null,
      "metadata": {
        "colab": {
          "base_uri": "https://localhost:8080/"
        },
        "id": "tHwrO3TLIlUb",
        "outputId": "85754594-76b9-4a33-ce5f-40e91c8d20dc"
      },
      "outputs": [
        {
          "data": {
            "text/plain": [
              "array([0.00925654, 0.        , 0.01254263])"
            ]
          },
          "execution_count": 26,
          "metadata": {},
          "output_type": "execute_result"
        }
      ],
      "source": [
        "topic_results[0]"
      ]
    },
    {
      "cell_type": "code",
      "execution_count": null,
      "metadata": {
        "colab": {
          "base_uri": "https://localhost:8080/"
        },
        "id": "489WaD6KIokk",
        "outputId": "47967d8e-c1e0-41ac-bcac-19be2788700f"
      },
      "outputs": [
        {
          "name": "stdout",
          "output_type": "stream",
          "text": [
            "0\n",
            "[0. 0. 0.]\n",
            "1\n",
            "[0. 0. 0.]\n",
            "2\n",
            "[0.01 0.   0.01]\n",
            "3\n",
            "[0.009 0.    0.013]\n",
            "4\n",
            "[0.0093 0.     0.0125]\n",
            "5\n",
            "[0.00926 0.      0.01254]\n",
            "6\n",
            "[0.009257 0.       0.012543]\n",
            "7\n",
            "[0.0092565 0.        0.0125426]\n",
            "8\n",
            "[0.00925654 0.         0.01254263]\n",
            "9\n",
            "[0.00925654 0.         0.01254263]\n"
          ]
        }
      ],
      "source": [
        "for i in range(10):\n",
        "  print(i)\n",
        "  print(topic_results[0].round(i))"
      ]
    },
    {
      "cell_type": "code",
      "execution_count": null,
      "metadata": {
        "colab": {
          "base_uri": "https://localhost:8080/"
        },
        "id": "W74hnxV7IrrT",
        "outputId": "8a5967ea-f641-4882-eb53-3ee4525ef096"
      },
      "outputs": [
        {
          "data": {
            "text/plain": [
              "2"
            ]
          },
          "execution_count": 28,
          "metadata": {},
          "output_type": "execute_result"
        }
      ],
      "source": [
        "topic_results[0].argmax()"
      ]
    },
    {
      "cell_type": "code",
      "execution_count": null,
      "metadata": {
        "id": "N_IcjKZJJMyG"
      },
      "outputs": [],
      "source": [
        "filtered_df['Topic'] = topic_results.argmax(axis=1)"
      ]
    },
    {
      "cell_type": "code",
      "execution_count": null,
      "metadata": {
        "colab": {
          "base_uri": "https://localhost:8080/",
          "height": 206
        },
        "id": "Aw1MtAUfJtT-",
        "outputId": "ddd0fa46-e767-49d8-d045-e00cfd506213"
      },
      "outputs": [
        {
          "data": {
            "text/html": [
              "\n",
              "  <div id=\"df-14335771-b093-40ed-924e-3f2fac7d9ae2\">\n",
              "    <div class=\"colab-df-container\">\n",
              "      <div>\n",
              "<style scoped>\n",
              "    .dataframe tbody tr th:only-of-type {\n",
              "        vertical-align: middle;\n",
              "    }\n",
              "\n",
              "    .dataframe tbody tr th {\n",
              "        vertical-align: top;\n",
              "    }\n",
              "\n",
              "    .dataframe thead th {\n",
              "        text-align: right;\n",
              "    }\n",
              "</style>\n",
              "<table border=\"1\" class=\"dataframe\">\n",
              "  <thead>\n",
              "    <tr style=\"text-align: right;\">\n",
              "      <th></th>\n",
              "      <th>link</th>\n",
              "      <th>headline</th>\n",
              "      <th>category</th>\n",
              "      <th>short_description</th>\n",
              "      <th>authors</th>\n",
              "      <th>date</th>\n",
              "      <th>Topic</th>\n",
              "    </tr>\n",
              "  </thead>\n",
              "  <tbody>\n",
              "    <tr>\n",
              "      <th>0</th>\n",
              "      <td>https://www.huffpost.com/entry/covid-boosters-...</td>\n",
              "      <td>Over 4 Million Americans Roll Up Sleeves For O...</td>\n",
              "      <td>U.S. NEWS</td>\n",
              "      <td>Health experts said it is too early to predict...</td>\n",
              "      <td>Carla K. Johnson, AP</td>\n",
              "      <td>2022-09-23</td>\n",
              "      <td>2</td>\n",
              "    </tr>\n",
              "    <tr>\n",
              "      <th>1</th>\n",
              "      <td>https://www.huffpost.com/entry/american-airlin...</td>\n",
              "      <td>American Airlines Flyer Charged, Banned For Li...</td>\n",
              "      <td>U.S. NEWS</td>\n",
              "      <td>He was subdued by passengers and crew when he ...</td>\n",
              "      <td>Mary Papenfuss</td>\n",
              "      <td>2022-09-23</td>\n",
              "      <td>2</td>\n",
              "    </tr>\n",
              "    <tr>\n",
              "      <th>2</th>\n",
              "      <td>https://www.huffpost.com/entry/funniest-tweets...</td>\n",
              "      <td>23 Of The Funniest Tweets About Cats And Dogs ...</td>\n",
              "      <td>COMEDY</td>\n",
              "      <td>\"Until you have a dog you don't understand wha...</td>\n",
              "      <td>Elyse Wanshel</td>\n",
              "      <td>2022-09-23</td>\n",
              "      <td>0</td>\n",
              "    </tr>\n",
              "    <tr>\n",
              "      <th>3</th>\n",
              "      <td>https://www.huffpost.com/entry/funniest-parent...</td>\n",
              "      <td>The Funniest Tweets From Parents This Week (Se...</td>\n",
              "      <td>PARENTING</td>\n",
              "      <td>\"Accidentally put grown-up toothpaste on my to...</td>\n",
              "      <td>Caroline Bologna</td>\n",
              "      <td>2022-09-23</td>\n",
              "      <td>0</td>\n",
              "    </tr>\n",
              "    <tr>\n",
              "      <th>4</th>\n",
              "      <td>https://www.huffpost.com/entry/amy-cooper-lose...</td>\n",
              "      <td>Woman Who Called Cops On Black Bird-Watcher Lo...</td>\n",
              "      <td>U.S. NEWS</td>\n",
              "      <td>Amy Cooper accused investment firm Franklin Te...</td>\n",
              "      <td>Nina Golgowski</td>\n",
              "      <td>2022-09-22</td>\n",
              "      <td>0</td>\n",
              "    </tr>\n",
              "  </tbody>\n",
              "</table>\n",
              "</div>\n",
              "      <button class=\"colab-df-convert\" onclick=\"convertToInteractive('df-14335771-b093-40ed-924e-3f2fac7d9ae2')\"\n",
              "              title=\"Convert this dataframe to an interactive table.\"\n",
              "              style=\"display:none;\">\n",
              "        \n",
              "  <svg xmlns=\"http://www.w3.org/2000/svg\" height=\"24px\"viewBox=\"0 0 24 24\"\n",
              "       width=\"24px\">\n",
              "    <path d=\"M0 0h24v24H0V0z\" fill=\"none\"/>\n",
              "    <path d=\"M18.56 5.44l.94 2.06.94-2.06 2.06-.94-2.06-.94-.94-2.06-.94 2.06-2.06.94zm-11 1L8.5 8.5l.94-2.06 2.06-.94-2.06-.94L8.5 2.5l-.94 2.06-2.06.94zm10 10l.94 2.06.94-2.06 2.06-.94-2.06-.94-.94-2.06-.94 2.06-2.06.94z\"/><path d=\"M17.41 7.96l-1.37-1.37c-.4-.4-.92-.59-1.43-.59-.52 0-1.04.2-1.43.59L10.3 9.45l-7.72 7.72c-.78.78-.78 2.05 0 2.83L4 21.41c.39.39.9.59 1.41.59.51 0 1.02-.2 1.41-.59l7.78-7.78 2.81-2.81c.8-.78.8-2.07 0-2.86zM5.41 20L4 18.59l7.72-7.72 1.47 1.35L5.41 20z\"/>\n",
              "  </svg>\n",
              "      </button>\n",
              "      \n",
              "  <style>\n",
              "    .colab-df-container {\n",
              "      display:flex;\n",
              "      flex-wrap:wrap;\n",
              "      gap: 12px;\n",
              "    }\n",
              "\n",
              "    .colab-df-convert {\n",
              "      background-color: #E8F0FE;\n",
              "      border: none;\n",
              "      border-radius: 50%;\n",
              "      cursor: pointer;\n",
              "      display: none;\n",
              "      fill: #1967D2;\n",
              "      height: 32px;\n",
              "      padding: 0 0 0 0;\n",
              "      width: 32px;\n",
              "    }\n",
              "\n",
              "    .colab-df-convert:hover {\n",
              "      background-color: #E2EBFA;\n",
              "      box-shadow: 0px 1px 2px rgba(60, 64, 67, 0.3), 0px 1px 3px 1px rgba(60, 64, 67, 0.15);\n",
              "      fill: #174EA6;\n",
              "    }\n",
              "\n",
              "    [theme=dark] .colab-df-convert {\n",
              "      background-color: #3B4455;\n",
              "      fill: #D2E3FC;\n",
              "    }\n",
              "\n",
              "    [theme=dark] .colab-df-convert:hover {\n",
              "      background-color: #434B5C;\n",
              "      box-shadow: 0px 1px 3px 1px rgba(0, 0, 0, 0.15);\n",
              "      filter: drop-shadow(0px 1px 2px rgba(0, 0, 0, 0.3));\n",
              "      fill: #FFFFFF;\n",
              "    }\n",
              "  </style>\n",
              "\n",
              "      <script>\n",
              "        const buttonEl =\n",
              "          document.querySelector('#df-14335771-b093-40ed-924e-3f2fac7d9ae2 button.colab-df-convert');\n",
              "        buttonEl.style.display =\n",
              "          google.colab.kernel.accessAllowed ? 'block' : 'none';\n",
              "\n",
              "        async function convertToInteractive(key) {\n",
              "          const element = document.querySelector('#df-14335771-b093-40ed-924e-3f2fac7d9ae2');\n",
              "          const dataTable =\n",
              "            await google.colab.kernel.invokeFunction('convertToInteractive',\n",
              "                                                     [key], {});\n",
              "          if (!dataTable) return;\n",
              "\n",
              "          const docLinkHtml = 'Like what you see? Visit the ' +\n",
              "            '<a target=\"_blank\" href=https://colab.research.google.com/notebooks/data_table.ipynb>data table notebook</a>'\n",
              "            + ' to learn more about interactive tables.';\n",
              "          element.innerHTML = '';\n",
              "          dataTable['output_type'] = 'display_data';\n",
              "          await google.colab.output.renderOutput(dataTable, element);\n",
              "          const docLink = document.createElement('div');\n",
              "          docLink.innerHTML = docLinkHtml;\n",
              "          element.appendChild(docLink);\n",
              "        }\n",
              "      </script>\n",
              "    </div>\n",
              "  </div>\n",
              "  "
            ],
            "text/plain": [
              "                                                link  \\\n",
              "0  https://www.huffpost.com/entry/covid-boosters-...   \n",
              "1  https://www.huffpost.com/entry/american-airlin...   \n",
              "2  https://www.huffpost.com/entry/funniest-tweets...   \n",
              "3  https://www.huffpost.com/entry/funniest-parent...   \n",
              "4  https://www.huffpost.com/entry/amy-cooper-lose...   \n",
              "\n",
              "                                            headline   category  \\\n",
              "0  Over 4 Million Americans Roll Up Sleeves For O...  U.S. NEWS   \n",
              "1  American Airlines Flyer Charged, Banned For Li...  U.S. NEWS   \n",
              "2  23 Of The Funniest Tweets About Cats And Dogs ...     COMEDY   \n",
              "3  The Funniest Tweets From Parents This Week (Se...  PARENTING   \n",
              "4  Woman Who Called Cops On Black Bird-Watcher Lo...  U.S. NEWS   \n",
              "\n",
              "                                   short_description               authors  \\\n",
              "0  Health experts said it is too early to predict...  Carla K. Johnson, AP   \n",
              "1  He was subdued by passengers and crew when he ...        Mary Papenfuss   \n",
              "2  \"Until you have a dog you don't understand wha...         Elyse Wanshel   \n",
              "3  \"Accidentally put grown-up toothpaste on my to...      Caroline Bologna   \n",
              "4  Amy Cooper accused investment firm Franklin Te...        Nina Golgowski   \n",
              "\n",
              "        date  Topic  \n",
              "0 2022-09-23      2  \n",
              "1 2022-09-23      2  \n",
              "2 2022-09-23      0  \n",
              "3 2022-09-23      0  \n",
              "4 2022-09-22      0  "
            ]
          },
          "execution_count": 30,
          "metadata": {},
          "output_type": "execute_result"
        }
      ],
      "source": [
        "filtered_df.head()\n"
      ]
    },
    {
      "cell_type": "code",
      "execution_count": null,
      "metadata": {
        "id": "uWF-8kaQPmxp"
      },
      "outputs": [],
      "source": [
        "df_new = df. copy()"
      ]
    },
    {
      "cell_type": "code",
      "execution_count": null,
      "metadata": {
        "id": "tEUTU_1OJxLf"
      },
      "outputs": [],
      "source": [
        "#### topic identiication using lda"
      ]
    },
    {
      "cell_type": "code",
      "execution_count": null,
      "metadata": {
        "colab": {
          "base_uri": "https://localhost:8080/",
          "height": 424
        },
        "id": "Eio5JYELPHEh",
        "outputId": "c09ffcaa-c8c9-4caa-b154-308c28dcd0e5"
      },
      "outputs": [
        {
          "data": {
            "text/html": [
              "\n",
              "  <div id=\"df-dfd00201-fd71-48fa-83d2-915faa8045a0\">\n",
              "    <div class=\"colab-df-container\">\n",
              "      <div>\n",
              "<style scoped>\n",
              "    .dataframe tbody tr th:only-of-type {\n",
              "        vertical-align: middle;\n",
              "    }\n",
              "\n",
              "    .dataframe tbody tr th {\n",
              "        vertical-align: top;\n",
              "    }\n",
              "\n",
              "    .dataframe thead th {\n",
              "        text-align: right;\n",
              "    }\n",
              "</style>\n",
              "<table border=\"1\" class=\"dataframe\">\n",
              "  <thead>\n",
              "    <tr style=\"text-align: right;\">\n",
              "      <th></th>\n",
              "      <th>link</th>\n",
              "      <th>headline</th>\n",
              "      <th>category</th>\n",
              "      <th>short_description</th>\n",
              "      <th>authors</th>\n",
              "      <th>date</th>\n",
              "      <th>Topic</th>\n",
              "    </tr>\n",
              "  </thead>\n",
              "  <tbody>\n",
              "    <tr>\n",
              "      <th>0</th>\n",
              "      <td>https://www.huffpost.com/entry/covid-boosters-...</td>\n",
              "      <td>Over 4 Million Americans Roll Up Sleeves For O...</td>\n",
              "      <td>U.S. NEWS</td>\n",
              "      <td>Health experts said it is too early to predict...</td>\n",
              "      <td>Carla K. Johnson, AP</td>\n",
              "      <td>2022-09-23</td>\n",
              "      <td>2</td>\n",
              "    </tr>\n",
              "    <tr>\n",
              "      <th>1</th>\n",
              "      <td>https://www.huffpost.com/entry/american-airlin...</td>\n",
              "      <td>American Airlines Flyer Charged, Banned For Li...</td>\n",
              "      <td>U.S. NEWS</td>\n",
              "      <td>He was subdued by passengers and crew when he ...</td>\n",
              "      <td>Mary Papenfuss</td>\n",
              "      <td>2022-09-23</td>\n",
              "      <td>2</td>\n",
              "    </tr>\n",
              "    <tr>\n",
              "      <th>2</th>\n",
              "      <td>https://www.huffpost.com/entry/funniest-tweets...</td>\n",
              "      <td>23 Of The Funniest Tweets About Cats And Dogs ...</td>\n",
              "      <td>COMEDY</td>\n",
              "      <td>\"Until you have a dog you don't understand wha...</td>\n",
              "      <td>Elyse Wanshel</td>\n",
              "      <td>2022-09-23</td>\n",
              "      <td>0</td>\n",
              "    </tr>\n",
              "    <tr>\n",
              "      <th>3</th>\n",
              "      <td>https://www.huffpost.com/entry/funniest-parent...</td>\n",
              "      <td>The Funniest Tweets From Parents This Week (Se...</td>\n",
              "      <td>PARENTING</td>\n",
              "      <td>\"Accidentally put grown-up toothpaste on my to...</td>\n",
              "      <td>Caroline Bologna</td>\n",
              "      <td>2022-09-23</td>\n",
              "      <td>0</td>\n",
              "    </tr>\n",
              "    <tr>\n",
              "      <th>4</th>\n",
              "      <td>https://www.huffpost.com/entry/amy-cooper-lose...</td>\n",
              "      <td>Woman Who Called Cops On Black Bird-Watcher Lo...</td>\n",
              "      <td>U.S. NEWS</td>\n",
              "      <td>Amy Cooper accused investment firm Franklin Te...</td>\n",
              "      <td>Nina Golgowski</td>\n",
              "      <td>2022-09-22</td>\n",
              "      <td>0</td>\n",
              "    </tr>\n",
              "    <tr>\n",
              "      <th>...</th>\n",
              "      <td>...</td>\n",
              "      <td>...</td>\n",
              "      <td>...</td>\n",
              "      <td>...</td>\n",
              "      <td>...</td>\n",
              "      <td>...</td>\n",
              "      <td>...</td>\n",
              "    </tr>\n",
              "    <tr>\n",
              "      <th>209522</th>\n",
              "      <td>https://www.huffingtonpost.com/entry/rim-ceo-t...</td>\n",
              "      <td>RIM CEO Thorsten Heins' 'Significant' Plans Fo...</td>\n",
              "      <td>TECH</td>\n",
              "      <td>Verizon Wireless and AT&amp;T are already promotin...</td>\n",
              "      <td>Reuters, Reuters</td>\n",
              "      <td>2012-01-28</td>\n",
              "      <td>0</td>\n",
              "    </tr>\n",
              "    <tr>\n",
              "      <th>209523</th>\n",
              "      <td>https://www.huffingtonpost.com/entry/maria-sha...</td>\n",
              "      <td>Maria Sharapova Stunned By Victoria Azarenka I...</td>\n",
              "      <td>SPORTS</td>\n",
              "      <td>Afterward, Azarenka, more effusive with the pr...</td>\n",
              "      <td></td>\n",
              "      <td>2012-01-28</td>\n",
              "      <td>0</td>\n",
              "    </tr>\n",
              "    <tr>\n",
              "      <th>209524</th>\n",
              "      <td>https://www.huffingtonpost.com/entry/super-bow...</td>\n",
              "      <td>Giants Over Patriots, Jets Over Colts Among  M...</td>\n",
              "      <td>SPORTS</td>\n",
              "      <td>Leading up to Super Bowl XLVI, the most talked...</td>\n",
              "      <td></td>\n",
              "      <td>2012-01-28</td>\n",
              "      <td>0</td>\n",
              "    </tr>\n",
              "    <tr>\n",
              "      <th>209525</th>\n",
              "      <td>https://www.huffingtonpost.com/entry/aldon-smi...</td>\n",
              "      <td>Aldon Smith Arrested: 49ers Linebacker Busted ...</td>\n",
              "      <td>SPORTS</td>\n",
              "      <td>CORRECTION: An earlier version of this story i...</td>\n",
              "      <td></td>\n",
              "      <td>2012-01-28</td>\n",
              "      <td>0</td>\n",
              "    </tr>\n",
              "    <tr>\n",
              "      <th>209526</th>\n",
              "      <td>https://www.huffingtonpost.com/entry/dwight-ho...</td>\n",
              "      <td>Dwight Howard Rips Teammates After Magic Loss ...</td>\n",
              "      <td>SPORTS</td>\n",
              "      <td>The five-time all-star center tore into his te...</td>\n",
              "      <td></td>\n",
              "      <td>2012-01-28</td>\n",
              "      <td>0</td>\n",
              "    </tr>\n",
              "  </tbody>\n",
              "</table>\n",
              "<p>209527 rows × 7 columns</p>\n",
              "</div>\n",
              "      <button class=\"colab-df-convert\" onclick=\"convertToInteractive('df-dfd00201-fd71-48fa-83d2-915faa8045a0')\"\n",
              "              title=\"Convert this dataframe to an interactive table.\"\n",
              "              style=\"display:none;\">\n",
              "        \n",
              "  <svg xmlns=\"http://www.w3.org/2000/svg\" height=\"24px\"viewBox=\"0 0 24 24\"\n",
              "       width=\"24px\">\n",
              "    <path d=\"M0 0h24v24H0V0z\" fill=\"none\"/>\n",
              "    <path d=\"M18.56 5.44l.94 2.06.94-2.06 2.06-.94-2.06-.94-.94-2.06-.94 2.06-2.06.94zm-11 1L8.5 8.5l.94-2.06 2.06-.94-2.06-.94L8.5 2.5l-.94 2.06-2.06.94zm10 10l.94 2.06.94-2.06 2.06-.94-2.06-.94-.94-2.06-.94 2.06-2.06.94z\"/><path d=\"M17.41 7.96l-1.37-1.37c-.4-.4-.92-.59-1.43-.59-.52 0-1.04.2-1.43.59L10.3 9.45l-7.72 7.72c-.78.78-.78 2.05 0 2.83L4 21.41c.39.39.9.59 1.41.59.51 0 1.02-.2 1.41-.59l7.78-7.78 2.81-2.81c.8-.78.8-2.07 0-2.86zM5.41 20L4 18.59l7.72-7.72 1.47 1.35L5.41 20z\"/>\n",
              "  </svg>\n",
              "      </button>\n",
              "      \n",
              "  <style>\n",
              "    .colab-df-container {\n",
              "      display:flex;\n",
              "      flex-wrap:wrap;\n",
              "      gap: 12px;\n",
              "    }\n",
              "\n",
              "    .colab-df-convert {\n",
              "      background-color: #E8F0FE;\n",
              "      border: none;\n",
              "      border-radius: 50%;\n",
              "      cursor: pointer;\n",
              "      display: none;\n",
              "      fill: #1967D2;\n",
              "      height: 32px;\n",
              "      padding: 0 0 0 0;\n",
              "      width: 32px;\n",
              "    }\n",
              "\n",
              "    .colab-df-convert:hover {\n",
              "      background-color: #E2EBFA;\n",
              "      box-shadow: 0px 1px 2px rgba(60, 64, 67, 0.3), 0px 1px 3px 1px rgba(60, 64, 67, 0.15);\n",
              "      fill: #174EA6;\n",
              "    }\n",
              "\n",
              "    [theme=dark] .colab-df-convert {\n",
              "      background-color: #3B4455;\n",
              "      fill: #D2E3FC;\n",
              "    }\n",
              "\n",
              "    [theme=dark] .colab-df-convert:hover {\n",
              "      background-color: #434B5C;\n",
              "      box-shadow: 0px 1px 3px 1px rgba(0, 0, 0, 0.15);\n",
              "      filter: drop-shadow(0px 1px 2px rgba(0, 0, 0, 0.3));\n",
              "      fill: #FFFFFF;\n",
              "    }\n",
              "  </style>\n",
              "\n",
              "      <script>\n",
              "        const buttonEl =\n",
              "          document.querySelector('#df-dfd00201-fd71-48fa-83d2-915faa8045a0 button.colab-df-convert');\n",
              "        buttonEl.style.display =\n",
              "          google.colab.kernel.accessAllowed ? 'block' : 'none';\n",
              "\n",
              "        async function convertToInteractive(key) {\n",
              "          const element = document.querySelector('#df-dfd00201-fd71-48fa-83d2-915faa8045a0');\n",
              "          const dataTable =\n",
              "            await google.colab.kernel.invokeFunction('convertToInteractive',\n",
              "                                                     [key], {});\n",
              "          if (!dataTable) return;\n",
              "\n",
              "          const docLinkHtml = 'Like what you see? Visit the ' +\n",
              "            '<a target=\"_blank\" href=https://colab.research.google.com/notebooks/data_table.ipynb>data table notebook</a>'\n",
              "            + ' to learn more about interactive tables.';\n",
              "          element.innerHTML = '';\n",
              "          dataTable['output_type'] = 'display_data';\n",
              "          await google.colab.output.renderOutput(dataTable, element);\n",
              "          const docLink = document.createElement('div');\n",
              "          docLink.innerHTML = docLinkHtml;\n",
              "          element.appendChild(docLink);\n",
              "        }\n",
              "      </script>\n",
              "    </div>\n",
              "  </div>\n",
              "  "
            ],
            "text/plain": [
              "                                                     link  \\\n",
              "0       https://www.huffpost.com/entry/covid-boosters-...   \n",
              "1       https://www.huffpost.com/entry/american-airlin...   \n",
              "2       https://www.huffpost.com/entry/funniest-tweets...   \n",
              "3       https://www.huffpost.com/entry/funniest-parent...   \n",
              "4       https://www.huffpost.com/entry/amy-cooper-lose...   \n",
              "...                                                   ...   \n",
              "209522  https://www.huffingtonpost.com/entry/rim-ceo-t...   \n",
              "209523  https://www.huffingtonpost.com/entry/maria-sha...   \n",
              "209524  https://www.huffingtonpost.com/entry/super-bow...   \n",
              "209525  https://www.huffingtonpost.com/entry/aldon-smi...   \n",
              "209526  https://www.huffingtonpost.com/entry/dwight-ho...   \n",
              "\n",
              "                                                 headline   category  \\\n",
              "0       Over 4 Million Americans Roll Up Sleeves For O...  U.S. NEWS   \n",
              "1       American Airlines Flyer Charged, Banned For Li...  U.S. NEWS   \n",
              "2       23 Of The Funniest Tweets About Cats And Dogs ...     COMEDY   \n",
              "3       The Funniest Tweets From Parents This Week (Se...  PARENTING   \n",
              "4       Woman Who Called Cops On Black Bird-Watcher Lo...  U.S. NEWS   \n",
              "...                                                   ...        ...   \n",
              "209522  RIM CEO Thorsten Heins' 'Significant' Plans Fo...       TECH   \n",
              "209523  Maria Sharapova Stunned By Victoria Azarenka I...     SPORTS   \n",
              "209524  Giants Over Patriots, Jets Over Colts Among  M...     SPORTS   \n",
              "209525  Aldon Smith Arrested: 49ers Linebacker Busted ...     SPORTS   \n",
              "209526  Dwight Howard Rips Teammates After Magic Loss ...     SPORTS   \n",
              "\n",
              "                                        short_description  \\\n",
              "0       Health experts said it is too early to predict...   \n",
              "1       He was subdued by passengers and crew when he ...   \n",
              "2       \"Until you have a dog you don't understand wha...   \n",
              "3       \"Accidentally put grown-up toothpaste on my to...   \n",
              "4       Amy Cooper accused investment firm Franklin Te...   \n",
              "...                                                   ...   \n",
              "209522  Verizon Wireless and AT&T are already promotin...   \n",
              "209523  Afterward, Azarenka, more effusive with the pr...   \n",
              "209524  Leading up to Super Bowl XLVI, the most talked...   \n",
              "209525  CORRECTION: An earlier version of this story i...   \n",
              "209526  The five-time all-star center tore into his te...   \n",
              "\n",
              "                     authors       date  Topic  \n",
              "0       Carla K. Johnson, AP 2022-09-23      2  \n",
              "1             Mary Papenfuss 2022-09-23      2  \n",
              "2              Elyse Wanshel 2022-09-23      0  \n",
              "3           Caroline Bologna 2022-09-23      0  \n",
              "4             Nina Golgowski 2022-09-22      0  \n",
              "...                      ...        ...    ...  \n",
              "209522      Reuters, Reuters 2012-01-28      0  \n",
              "209523                       2012-01-28      0  \n",
              "209524                       2012-01-28      0  \n",
              "209525                       2012-01-28      0  \n",
              "209526                       2012-01-28      0  \n",
              "\n",
              "[209527 rows x 7 columns]"
            ]
          },
          "execution_count": 33,
          "metadata": {},
          "output_type": "execute_result"
        }
      ],
      "source": [
        "df"
      ]
    },
    {
      "cell_type": "code",
      "execution_count": null,
      "metadata": {
        "colab": {
          "base_uri": "https://localhost:8080/"
        },
        "id": "OIG9jVQ3PII1",
        "outputId": "3ca00812-d2c0-4527-c5fc-5be5c040c467"
      },
      "outputs": [
        {
          "name": "stdout",
          "output_type": "stream",
          "text": [
            "Looking in indexes: https://pypi.org/simple, https://us-python.pkg.dev/colab-wheels/public/simple/\n",
            "Requirement already satisfied: nltk in /usr/local/lib/python3.10/dist-packages (3.8.1)\n",
            "Requirement already satisfied: click in /usr/local/lib/python3.10/dist-packages (from nltk) (8.1.3)\n",
            "Requirement already satisfied: joblib in /usr/local/lib/python3.10/dist-packages (from nltk) (1.2.0)\n",
            "Requirement already satisfied: regex>=2021.8.3 in /usr/local/lib/python3.10/dist-packages (from nltk) (2022.10.31)\n",
            "Requirement already satisfied: tqdm in /usr/local/lib/python3.10/dist-packages (from nltk) (4.65.0)\n",
            "Looking in indexes: https://pypi.org/simple, https://us-python.pkg.dev/colab-wheels/public/simple/\n",
            "Requirement already satisfied: gensim in /usr/local/lib/python3.10/dist-packages (4.3.1)\n",
            "Requirement already satisfied: numpy>=1.18.5 in /usr/local/lib/python3.10/dist-packages (from gensim) (1.22.4)\n",
            "Requirement already satisfied: scipy>=1.7.0 in /usr/local/lib/python3.10/dist-packages (from gensim) (1.10.1)\n",
            "Requirement already satisfied: smart-open>=1.8.1 in /usr/local/lib/python3.10/dist-packages (from gensim) (6.3.0)\n"
          ]
        }
      ],
      "source": [
        "!pip install nltk\n",
        "!pip install gensim\n"
      ]
    },
    {
      "cell_type": "code",
      "execution_count": null,
      "metadata": {
        "colab": {
          "base_uri": "https://localhost:8080/"
        },
        "id": "NuPnlh94a-D0",
        "outputId": "84423442-be4f-46a5-ee9f-cf720041bab0"
      },
      "outputs": [
        {
          "name": "stderr",
          "output_type": "stream",
          "text": [
            "[nltk_data] Downloading package punkt to /root/nltk_data...\n",
            "[nltk_data]   Unzipping tokenizers/punkt.zip.\n",
            "[nltk_data] Downloading package stopwords to /root/nltk_data...\n",
            "[nltk_data]   Unzipping corpora/stopwords.zip.\n",
            "[nltk_data] Downloading package wordnet to /root/nltk_data...\n"
          ]
        }
      ],
      "source": [
        "import nltk\n",
        "from nltk.tokenize import word_tokenize\n",
        "from nltk.corpus import stopwords\n",
        "from nltk.stem import WordNetLemmatizer\n",
        "from gensim import corpora\n",
        "\n",
        "nltk.download('punkt')\n",
        "nltk.download('stopwords')\n",
        "nltk.download('wordnet')\n",
        "\n",
        "def preprocess_documents(documents):\n",
        "    lemmatizer = WordNetLemmatizer()\n",
        "    stop_words = set(stopwords.words('english'))\n",
        "\n",
        "    tokenized_docs = [word_tokenize(doc.lower()) for doc in documents]\n",
        "    cleaned_docs = [[lemmatizer.lemmatize(token) for token in doc if token.isalpha() and token not in stop_words] for doc in tokenized_docs]\n",
        "    dictionary = corpora.Dictionary(cleaned_docs)\n",
        "    document_term_matrix = [dictionary.doc2bow(doc) for doc in cleaned_docs]\n",
        "\n",
        "    return dictionary, document_term_matrix\n",
        "\n",
        "from gensim.models import LdaModel\n",
        "\n",
        "def train_lda_model(document_term_matrix, num_topics):\n",
        "    lda_model = LdaModel(document_term_matrix, num_topics=num_topics, id2word=dictionary, passes=10)\n",
        "    return lda_model\n",
        "\n",
        "def extract_topics(lda_model):\n",
        "    topics = lda_model.print_topics()\n",
        "    return topics\n",
        "\n",
        "\n",
        "# Step 2: Preprocess the data\n",
        "documents = filtered_df['short_description']\n",
        "dictionary, document_term_matrix = preprocess_documents(documents)\n",
        "\n"
      ]
    },
    {
      "cell_type": "code",
      "execution_count": null,
      "metadata": {
        "colab": {
          "base_uri": "https://localhost:8080/"
        },
        "id": "8WcH6DfksEYL",
        "outputId": "2c184b0f-6959-4223-b32a-a5409db90aba"
      },
      "outputs": [
        {
          "data": {
            "text/plain": [
              "0         Health experts said it is too early to predict...\n",
              "1         He was subdued by passengers and crew when he ...\n",
              "2         \"Until you have a dog you don't understand wha...\n",
              "3         \"Accidentally put grown-up toothpaste on my to...\n",
              "4         Amy Cooper accused investment firm Franklin Te...\n",
              "                                ...                        \n",
              "209522    Verizon Wireless and AT&T are already promotin...\n",
              "209523    Afterward, Azarenka, more effusive with the pr...\n",
              "209524    Leading up to Super Bowl XLVI, the most talked...\n",
              "209525    CORRECTION: An earlier version of this story i...\n",
              "209526    The five-time all-star center tore into his te...\n",
              "Name: short_description, Length: 209527, dtype: object"
            ]
          },
          "execution_count": 36,
          "metadata": {},
          "output_type": "execute_result"
        }
      ],
      "source": [
        "filtered_df['short_description']"
      ]
    },
    {
      "cell_type": "code",
      "execution_count": null,
      "metadata": {
        "colab": {
          "base_uri": "https://localhost:8080/"
        },
        "id": "eSuReohVbEro",
        "outputId": "a7ebc662-a34d-42b8-ddc6-28d791f6ae1f"
      },
      "outputs": [
        {
          "name": "stdout",
          "output_type": "stream",
          "text": [
            "(21, '0.085*\"found\" + 0.047*\"man\" + 0.037*\"president\" + 0.034*\"able\" + 0.034*\"spend\" + 0.033*\"death\" + 0.032*\"obama\" + 0.029*\"celebrate\" + 0.028*\"alone\" + 0.024*\"former\"')\n",
            "(37, '0.097*\"always\" + 0.070*\"thought\" + 0.064*\"girl\" + 0.052*\"set\" + 0.035*\"result\" + 0.034*\"anyone\" + 0.031*\"including\" + 0.031*\"gift\" + 0.024*\"team\" + 0.023*\"usually\"')\n",
            "(20, '0.099*\"help\" + 0.065*\"whether\" + 0.058*\"summer\" + 0.040*\"everything\" + 0.038*\"talk\" + 0.036*\"house\" + 0.035*\"choice\" + 0.034*\"small\" + 0.032*\"white\" + 0.031*\"research\"')\n",
            "(29, '0.211*\"new\" + 0.055*\"study\" + 0.050*\"mean\" + 0.049*\"ever\" + 0.046*\"video\" + 0.044*\"york\" + 0.039*\"start\" + 0.029*\"holiday\" + 0.021*\"time\" + 0.018*\"magazine\"')\n",
            "(36, '0.095*\"going\" + 0.078*\"give\" + 0.049*\"must\" + 0.046*\"celebrity\" + 0.030*\"using\" + 0.030*\"system\" + 0.030*\"form\" + 0.026*\"key\" + 0.025*\"looked\" + 0.024*\"wall\"')\n",
            "(13, '0.068*\"live\" + 0.055*\"idea\" + 0.051*\"fact\" + 0.051*\"others\" + 0.030*\"attention\" + 0.029*\"popular\" + 0.028*\"local\" + 0.026*\"service\" + 0.025*\"diet\" + 0.025*\"saturday\"')\n",
            "(35, '0.100*\"wedding\" + 0.098*\"photo\" + 0.065*\"huffpost\" + 0.048*\"sleep\" + 0.047*\"healthy\" + 0.044*\"baby\" + 0.042*\"fear\" + 0.031*\"instead\" + 0.030*\"community\" + 0.026*\"day\"')\n",
            "(9, '0.100*\"thing\" + 0.070*\"home\" + 0.066*\"go\" + 0.042*\"friend\" + 0.032*\"next\" + 0.030*\"easy\" + 0.030*\"way\" + 0.028*\"problem\" + 0.026*\"travel\" + 0.024*\"used\"')\n",
            "(34, '0.072*\"told\" + 0.069*\"away\" + 0.052*\"daughter\" + 0.046*\"risk\" + 0.039*\"friday\" + 0.034*\"father\" + 0.034*\"special\" + 0.032*\"center\" + 0.030*\"office\" + 0.029*\"kate\"')\n",
            "(17, '0.107*\"made\" + 0.054*\"red\" + 0.045*\"line\" + 0.035*\"member\" + 0.032*\"energy\" + 0.031*\"comment\" + 0.031*\"present\" + 0.027*\"blue\" + 0.025*\"clear\" + 0.024*\"flight\"')\n",
            "(12, '0.103*\"take\" + 0.085*\"see\" + 0.048*\"better\" + 0.042*\"place\" + 0.040*\"another\" + 0.039*\"got\" + 0.039*\"lot\" + 0.035*\"one\" + 0.033*\"question\" + 0.031*\"looking\"')\n",
            "(26, '0.112*\"show\" + 0.078*\"moment\" + 0.057*\"old\" + 0.040*\"remember\" + 0.040*\"called\" + 0.038*\"art\" + 0.038*\"model\" + 0.033*\"run\" + 0.030*\"support\" + 0.030*\"late\"')\n",
            "(30, '0.075*\"country\" + 0.064*\"five\" + 0.061*\"black\" + 0.050*\"already\" + 0.042*\"morning\" + 0.041*\"across\" + 0.037*\"sunday\" + 0.030*\"goal\" + 0.029*\"hear\" + 0.025*\"skin\"')\n",
            "(33, '0.143*\"come\" + 0.101*\"really\" + 0.058*\"different\" + 0.047*\"word\" + 0.044*\"nothing\" + 0.035*\"color\" + 0.035*\"play\" + 0.032*\"yes\" + 0.030*\"likely\" + 0.028*\"open\"')\n",
            "(14, '0.144*\"many\" + 0.069*\"still\" + 0.063*\"today\" + 0.045*\"read\" + 0.037*\"school\" + 0.035*\"mind\" + 0.033*\"high\" + 0.033*\"taking\" + 0.031*\"job\" + 0.026*\"seen\"')\n",
            "(23, '0.143*\"know\" + 0.114*\"need\" + 0.048*\"couple\" + 0.040*\"body\" + 0.035*\"le\" + 0.034*\"someone\" + 0.027*\"stress\" + 0.025*\"especially\" + 0.023*\"common\" + 0.019*\"beach\"')\n",
            "(10, '0.144*\"even\" + 0.073*\"part\" + 0.043*\"try\" + 0.043*\"percent\" + 0.025*\"along\" + 0.023*\"trend\" + 0.021*\"difficult\" + 0.020*\"effort\" + 0.019*\"program\" + 0.018*\"memory\"')\n",
            "(15, '0.164*\"get\" + 0.143*\"want\" + 0.068*\"never\" + 0.030*\"course\" + 0.029*\"actually\" + 0.027*\"hour\" + 0.024*\"wear\" + 0.023*\"would\" + 0.023*\"son\" + 0.022*\"wanted\"')\n",
            "(22, '0.095*\"feel\" + 0.041*\"watch\" + 0.041*\"together\" + 0.039*\"share\" + 0.037*\"researcher\" + 0.035*\"book\" + 0.035*\"step\" + 0.028*\"maybe\" + 0.025*\"cover\" + 0.019*\"advice\"')\n",
            "(2, '0.151*\"may\" + 0.085*\"food\" + 0.051*\"state\" + 0.041*\"everyone\" + 0.032*\"room\" + 0.030*\"eat\" + 0.028*\"public\" + 0.024*\"power\" + 0.022*\"level\" + 0.021*\"order\"')\n"
          ]
        }
      ],
      "source": [
        "# Step 3: Train the LDA model\n",
        "num_topics = len(filtered_df['category'].unique())\n",
        "lda_model = train_lda_model(document_term_matrix, num_topics)\n",
        "\n",
        "# Step 4: Extract topics\n",
        "topics = extract_topics(lda_model)\n",
        "\n",
        "# Print the topics\n",
        "for topic in topics:\n",
        "    print(topic)"
      ]
    },
    {
      "cell_type": "code",
      "execution_count": null,
      "metadata": {
        "id": "BTZY5oKhtNWy"
      },
      "outputs": [],
      "source": [
        "lda_model.save('lda_model.model')"
      ]
    },
    {
      "cell_type": "code",
      "execution_count": null,
      "metadata": {
        "colab": {
          "base_uri": "https://localhost:8080/"
        },
        "id": "uahTW1XprfG2",
        "outputId": "a36807ca-dde2-40bb-b1ef-6d291e2442ac"
      },
      "outputs": [
        {
          "name": "stdout",
          "output_type": "stream",
          "text": [
            "Drive already mounted at /content/drive; to attempt to forcibly remount, call drive.mount(\"/content/drive\", force_remount=True).\n"
          ]
        }
      ],
      "source": [
        "from google.colab import drive\n",
        "drive.mount('/content/drive')"
      ]
    },
    {
      "cell_type": "code",
      "execution_count": null,
      "metadata": {
        "id": "Q8bUpvdAibSN"
      },
      "outputs": [],
      "source": [
        "#trying to figure out the topic based upon the available result"
      ]
    },
    {
      "cell_type": "code",
      "execution_count": null,
      "metadata": {
        "colab": {
          "base_uri": "https://localhost:8080/"
        },
        "id": "EU8a82ukbNEV",
        "outputId": "8242c17b-e7dd-4099-f475-246150e858d1"
      },
      "outputs": [
        {
          "name": "stdout",
          "output_type": "stream",
          "text": [
            "[(3, 0.081946485), (9, 0.07313111), (15, 0.12253845), (20, 0.09250755), (25, 0.237122), (29, 0.075724766), (30, 0.1704889), (33, 0.08870973)]\n",
            "3\n",
            "Most Probable Topic: (29, '0.211*\"new\" + 0.055*\"study\" + 0.050*\"mean\" + 0.049*\"ever\" + 0.046*\"video\" + 0.044*\"york\" + 0.039*\"start\" + 0.029*\"holiday\" + 0.021*\"time\" + 0.018*\"magazine\"')\n"
          ]
        }
      ],
      "source": [
        "# Example news description\n",
        "new_description = [\"Health experts said it is too early to predict whether demand would match up with the 171 million doses of the new boosters the U.S. ordered for the fall.\"]\n",
        "\n",
        "# Preprocess the new news description\n",
        "dictionary, document_term_matrix = preprocess_documents(new_description)\n",
        "\n",
        "# Convert the preprocessed description to a bag of words representation\n",
        "# new_article_bow = dictionary.doc2bow(preprocessed_description)\n",
        "\n",
        "# Infer the topic distribution for the new news description\n",
        "topic_distribution = lda_model.get_document_topics(document_term_matrix)\n",
        "\n",
        "# Sort the topics by their probability scores\n",
        "sorted_topics = sorted(topic_distribution, key=lambda x: x[1], reverse=True)\n",
        "\n",
        "# Get the most probable topic\n",
        "most_probable_topic = sorted_topics[0]\n",
        "print(most_probable_topic)\n",
        "topic_id = most_probable_topic[0][0]\n",
        "\n",
        "# Get the topic name based on the topic ID\n",
        "print(topic_id)\n",
        "topic_name = topics[topic_id]\n",
        "\n",
        "# Print the most probable topic\n",
        "print(\"Most Probable Topic:\", topic_name)"
      ]
    },
    {
      "cell_type": "code",
      "execution_count": null,
      "metadata": {
        "colab": {
          "base_uri": "https://localhost:8080/"
        },
        "id": "JG3uGI7-tqx2",
        "outputId": "4ed39d23-efa9-4b28-f23b-ffb0bee62db6"
      },
      "outputs": [
        {
          "data": {
            "text/plain": [
              "8"
            ]
          },
          "execution_count": 42,
          "metadata": {},
          "output_type": "execute_result"
        }
      ],
      "source": [
        "len(most_probable_topic)"
      ]
    },
    {
      "cell_type": "code",
      "execution_count": null,
      "metadata": {
        "colab": {
          "base_uri": "https://localhost:8080/",
          "height": 206
        },
        "id": "3Vb8gwO3qd2I",
        "outputId": "e9f2f81a-5ee6-4b67-caaa-bb64aef2d332"
      },
      "outputs": [
        {
          "data": {
            "text/html": [
              "\n",
              "  <div id=\"df-e41e8fb5-5a15-41ab-bbb2-132d0bfe3494\">\n",
              "    <div class=\"colab-df-container\">\n",
              "      <div>\n",
              "<style scoped>\n",
              "    .dataframe tbody tr th:only-of-type {\n",
              "        vertical-align: middle;\n",
              "    }\n",
              "\n",
              "    .dataframe tbody tr th {\n",
              "        vertical-align: top;\n",
              "    }\n",
              "\n",
              "    .dataframe thead th {\n",
              "        text-align: right;\n",
              "    }\n",
              "</style>\n",
              "<table border=\"1\" class=\"dataframe\">\n",
              "  <thead>\n",
              "    <tr style=\"text-align: right;\">\n",
              "      <th></th>\n",
              "      <th>headline</th>\n",
              "      <th>category</th>\n",
              "      <th>short_description</th>\n",
              "    </tr>\n",
              "  </thead>\n",
              "  <tbody>\n",
              "    <tr>\n",
              "      <th>0</th>\n",
              "      <td>Over 4 Million Americans Roll Up Sleeves For O...</td>\n",
              "      <td>U.S. NEWS</td>\n",
              "      <td>Health experts said it is too early to predict...</td>\n",
              "    </tr>\n",
              "    <tr>\n",
              "      <th>1</th>\n",
              "      <td>American Airlines Flyer Charged, Banned For Li...</td>\n",
              "      <td>U.S. NEWS</td>\n",
              "      <td>He was subdued by passengers and crew when he ...</td>\n",
              "    </tr>\n",
              "    <tr>\n",
              "      <th>2</th>\n",
              "      <td>23 Of The Funniest Tweets About Cats And Dogs ...</td>\n",
              "      <td>COMEDY</td>\n",
              "      <td>\"Until you have a dog you don't understand wha...</td>\n",
              "    </tr>\n",
              "    <tr>\n",
              "      <th>3</th>\n",
              "      <td>The Funniest Tweets From Parents This Week (Se...</td>\n",
              "      <td>PARENTING</td>\n",
              "      <td>\"Accidentally put grown-up toothpaste on my to...</td>\n",
              "    </tr>\n",
              "    <tr>\n",
              "      <th>4</th>\n",
              "      <td>Woman Who Called Cops On Black Bird-Watcher Lo...</td>\n",
              "      <td>U.S. NEWS</td>\n",
              "      <td>Amy Cooper accused investment firm Franklin Te...</td>\n",
              "    </tr>\n",
              "  </tbody>\n",
              "</table>\n",
              "</div>\n",
              "      <button class=\"colab-df-convert\" onclick=\"convertToInteractive('df-e41e8fb5-5a15-41ab-bbb2-132d0bfe3494')\"\n",
              "              title=\"Convert this dataframe to an interactive table.\"\n",
              "              style=\"display:none;\">\n",
              "        \n",
              "  <svg xmlns=\"http://www.w3.org/2000/svg\" height=\"24px\"viewBox=\"0 0 24 24\"\n",
              "       width=\"24px\">\n",
              "    <path d=\"M0 0h24v24H0V0z\" fill=\"none\"/>\n",
              "    <path d=\"M18.56 5.44l.94 2.06.94-2.06 2.06-.94-2.06-.94-.94-2.06-.94 2.06-2.06.94zm-11 1L8.5 8.5l.94-2.06 2.06-.94-2.06-.94L8.5 2.5l-.94 2.06-2.06.94zm10 10l.94 2.06.94-2.06 2.06-.94-2.06-.94-.94-2.06-.94 2.06-2.06.94z\"/><path d=\"M17.41 7.96l-1.37-1.37c-.4-.4-.92-.59-1.43-.59-.52 0-1.04.2-1.43.59L10.3 9.45l-7.72 7.72c-.78.78-.78 2.05 0 2.83L4 21.41c.39.39.9.59 1.41.59.51 0 1.02-.2 1.41-.59l7.78-7.78 2.81-2.81c.8-.78.8-2.07 0-2.86zM5.41 20L4 18.59l7.72-7.72 1.47 1.35L5.41 20z\"/>\n",
              "  </svg>\n",
              "      </button>\n",
              "      \n",
              "  <style>\n",
              "    .colab-df-container {\n",
              "      display:flex;\n",
              "      flex-wrap:wrap;\n",
              "      gap: 12px;\n",
              "    }\n",
              "\n",
              "    .colab-df-convert {\n",
              "      background-color: #E8F0FE;\n",
              "      border: none;\n",
              "      border-radius: 50%;\n",
              "      cursor: pointer;\n",
              "      display: none;\n",
              "      fill: #1967D2;\n",
              "      height: 32px;\n",
              "      padding: 0 0 0 0;\n",
              "      width: 32px;\n",
              "    }\n",
              "\n",
              "    .colab-df-convert:hover {\n",
              "      background-color: #E2EBFA;\n",
              "      box-shadow: 0px 1px 2px rgba(60, 64, 67, 0.3), 0px 1px 3px 1px rgba(60, 64, 67, 0.15);\n",
              "      fill: #174EA6;\n",
              "    }\n",
              "\n",
              "    [theme=dark] .colab-df-convert {\n",
              "      background-color: #3B4455;\n",
              "      fill: #D2E3FC;\n",
              "    }\n",
              "\n",
              "    [theme=dark] .colab-df-convert:hover {\n",
              "      background-color: #434B5C;\n",
              "      box-shadow: 0px 1px 3px 1px rgba(0, 0, 0, 0.15);\n",
              "      filter: drop-shadow(0px 1px 2px rgba(0, 0, 0, 0.3));\n",
              "      fill: #FFFFFF;\n",
              "    }\n",
              "  </style>\n",
              "\n",
              "      <script>\n",
              "        const buttonEl =\n",
              "          document.querySelector('#df-e41e8fb5-5a15-41ab-bbb2-132d0bfe3494 button.colab-df-convert');\n",
              "        buttonEl.style.display =\n",
              "          google.colab.kernel.accessAllowed ? 'block' : 'none';\n",
              "\n",
              "        async function convertToInteractive(key) {\n",
              "          const element = document.querySelector('#df-e41e8fb5-5a15-41ab-bbb2-132d0bfe3494');\n",
              "          const dataTable =\n",
              "            await google.colab.kernel.invokeFunction('convertToInteractive',\n",
              "                                                     [key], {});\n",
              "          if (!dataTable) return;\n",
              "\n",
              "          const docLinkHtml = 'Like what you see? Visit the ' +\n",
              "            '<a target=\"_blank\" href=https://colab.research.google.com/notebooks/data_table.ipynb>data table notebook</a>'\n",
              "            + ' to learn more about interactive tables.';\n",
              "          element.innerHTML = '';\n",
              "          dataTable['output_type'] = 'display_data';\n",
              "          await google.colab.output.renderOutput(dataTable, element);\n",
              "          const docLink = document.createElement('div');\n",
              "          docLink.innerHTML = docLinkHtml;\n",
              "          element.appendChild(docLink);\n",
              "        }\n",
              "      </script>\n",
              "    </div>\n",
              "  </div>\n",
              "  "
            ],
            "text/plain": [
              "                                            headline   category  \\\n",
              "0  Over 4 Million Americans Roll Up Sleeves For O...  U.S. NEWS   \n",
              "1  American Airlines Flyer Charged, Banned For Li...  U.S. NEWS   \n",
              "2  23 Of The Funniest Tweets About Cats And Dogs ...     COMEDY   \n",
              "3  The Funniest Tweets From Parents This Week (Se...  PARENTING   \n",
              "4  Woman Who Called Cops On Black Bird-Watcher Lo...  U.S. NEWS   \n",
              "\n",
              "                                   short_description  \n",
              "0  Health experts said it is too early to predict...  \n",
              "1  He was subdued by passengers and crew when he ...  \n",
              "2  \"Until you have a dog you don't understand wha...  \n",
              "3  \"Accidentally put grown-up toothpaste on my to...  \n",
              "4  Amy Cooper accused investment firm Franklin Te...  "
            ]
          },
          "execution_count": 43,
          "metadata": {},
          "output_type": "execute_result"
        }
      ],
      "source": [
        "df = pd.read_json('/content/drive/MyDrive/Colab Notebooks/datasets/News_Category_Dataset_v3.json', lines=True)\n",
        "\n",
        "new_df = df.drop(columns=['authors','link','date'])\n",
        "new_df.head()"
      ]
    },
    {
      "cell_type": "code",
      "execution_count": null,
      "metadata": {
        "id": "dF8g581JqyJb"
      },
      "outputs": [],
      "source": [
        "from wordcloud import WordCloud, STOPWORDS\n",
        "import matplotlib.pyplot as plt"
      ]
    },
    {
      "cell_type": "code",
      "execution_count": null,
      "metadata": {
        "id": "d9CVYpDVqUj7"
      },
      "outputs": [],
      "source": [
        "\n",
        "\n",
        "# create final dataframe of combined headline and short_description\n",
        "final_df = new_df.copy()\n",
        "final_df['length_of_news'] = final_df['headline'] + final_df['short_description']\n",
        "final_df.drop(['headline','short_description'], inplace=True, axis=1)\n",
        "final_df['len_news'] = final_df['length_of_news'].map(lambda x: len(x))"
      ]
    },
    {
      "cell_type": "code",
      "execution_count": null,
      "metadata": {
        "id": "fjbC3N5mg_ok"
      },
      "outputs": [],
      "source": [
        "# Top categories by and number of articles per categories\n",
        "cat_df = pd.DataFrame(new_df['category'].value_counts()).reset_index()\n",
        "cat_df.rename(columns={'index':'news_classes','category':'numcat'}, inplace=True)"
      ]
    },
    {
      "cell_type": "code",
      "execution_count": null,
      "metadata": {
        "colab": {
          "background_save": true
        },
        "id": "OItSWy2ke7Ud"
      },
      "outputs": [],
      "source": [
        "# create new dataframe of category and length of each news articles in that categories\n",
        "ndf = final_df.copy()\n",
        "ndf.drop('len_news', inplace=True, axis=1)\n",
        "\n",
        "# list of top 10  categories in out dataset\n",
        "categories = cat_df['news_classes'][:10].to_list()\n",
        "\n",
        "# list of news articles of each top 10 categories list\n",
        "articles_list = []\n",
        "\n",
        "for i in categories:\n",
        "    cat_ndf = ndf[ndf['category'] == i]\n",
        "    cat_array = cat_ndf['length_of_news'].values  # array of news articles text in each category\n",
        "    articles_list.append(cat_array)\n",
        "    \n",
        "# create a wordcloud instance\n",
        "wc1 = WordCloud(max_words=1000, \n",
        "               min_font_size=10,\n",
        "               height=600,\n",
        "               width=1600,\n",
        "               background_color='black',\n",
        "               contour_color='black',\n",
        "               colormap='plasma',\n",
        "               repeat=True,\n",
        "               stopwords=STOPWORDS)\n",
        "\n",
        "# plot the figure of 10 wordcloud from out dataset\n",
        "plt.figure(figsize=(15,15))\n",
        "\n",
        "for idx, j in enumerate(categories):\n",
        "    plt.subplot(5,2,idx+1)\n",
        "    cloud = wc1.generate(' '.join(articles_list[idx]))\n",
        "    plt.imshow(cloud, interpolation= \"bilinear\")\n",
        "    plt.title(f\"Wordcloud for news topic {j}\")\n",
        "    plt.axis('off')"
      ]
    },
    {
      "cell_type": "code",
      "execution_count": null,
      "metadata": {
        "id": "r6MAzSkxq1Vv"
      },
      "outputs": [],
      "source": []
    }
  ],
  "metadata": {
    "accelerator": "GPU",
    "colab": {
      "provenance": []
    },
    "gpuClass": "standard",
    "kernelspec": {
      "display_name": "Python 3",
      "name": "python3"
    },
    "language_info": {
      "name": "python"
    }
  },
  "nbformat": 4,
  "nbformat_minor": 0
}